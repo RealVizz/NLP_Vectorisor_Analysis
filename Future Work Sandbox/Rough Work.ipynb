{
 "cells": [
  {
   "cell_type": "code",
   "execution_count": 4,
   "id": "0425d82f",
   "metadata": {},
   "outputs": [
    {
     "data": {
      "text/plain": [
       "'nlp stanford edu ir book html htmledit stem lemmat html buckybarn'"
      ]
     },
     "execution_count": 4,
     "metadata": {},
     "output_type": "execute_result"
    }
   ],
   "source": [
    "# TASK CELL\n",
    "import numpy as np\n",
    "import re\n",
    "from nltk.corpus import stopwords\n",
    "from nltk.tokenize import word_tokenize\n",
    "from nltk.stem.snowball import PorterStemmer, SnowballStemmer\n",
    "from nltk.stem import WordNetLemmatizer\n",
    "\n",
    "def clean_review(review):\n",
    "    '''\n",
    "    Input:\n",
    "        review: a string containing a review.\n",
    "    Output:\n",
    "        review_cleaned: a processed review. \n",
    "    '''\n",
    "    review = review[0] if type(review) != str else review\n",
    "    if type(review) == np.ndarray:\n",
    "        print(review, review[0])\n",
    "        review = review[0]\n",
    "        \n",
    "    lower_string = review.lower()\n",
    "    no_url_str = re.sub(r'https?:\\/\\/\\.*','', lower_string)\n",
    "    clean_str = re.sub(r'[^a-zA-Z]', ' ', no_url_str)  # removing special characters, numbers, punctuations\n",
    "#     print(clean_str)\n",
    "    \n",
    "    stop_words_set = set(stopwords.words('english'))\n",
    "    stemmer_object = PorterStemmer()  # SnowballStemmer(language='english')\n",
    "#     lemma_obj = WordNetLemmatizer()\n",
    "  \n",
    "    review_str_tokens = word_tokenize(clean_str)\n",
    "    clean_word_list = [stemmer_object.stem(a_token) for a_token in review_str_tokens if not a_token.lower() in stop_words_set]\n",
    "    \n",
    "    clean_review = ' '.join(clean_word_list)\n",
    "    return clean_review\n",
    "\n",
    "\n",
    "\n",
    "# Verifying\n",
    "clean_review('https://nlp.stanford.edu/IR-book/html/htmledition/stemming-and-lemmatization-1.html BuckyBarnes@123 \\!@#$%^&*\\(\\)_+=-[]{}\\|\\';:\\\"/?.,><`~')"
   ]
  },
  {
   "cell_type": "code",
   "execution_count": 5,
   "id": "361bf372",
   "metadata": {},
   "outputs": [],
   "source": [
    "lines = []\n",
    "\n",
    "with open(r'S:\\MS AI NEU\\CS 6120 - NLP\\NLP_Project\\primes1\\primes1.txt', 'r', encoding='utf-8') as file:\n",
    "        lines = file.readlines()\n",
    "        "
   ]
  },
  {
   "cell_type": "code",
   "execution_count": 6,
   "id": "7b83f46f",
   "metadata": {},
   "outputs": [
    {
     "data": {
      "text/plain": [
       "['                 The First 1,000,000 Primes (from primes.utm.edu)\\n',\n",
       " '\\n',\n",
       " '         2         3         5         7        11        13        17        19 \\n']"
      ]
     },
     "execution_count": 6,
     "metadata": {},
     "output_type": "execute_result"
    }
   ],
   "source": [
    "lines[0:3]"
   ]
  },
  {
   "cell_type": "code",
   "execution_count": 7,
   "id": "cee81aec",
   "metadata": {},
   "outputs": [],
   "source": [
    "primes_list = [y for x in lines[2:] for y in f\"{x.strip()}\".split()]"
   ]
  },
  {
   "cell_type": "code",
   "execution_count": 8,
   "id": "98501a38",
   "metadata": {},
   "outputs": [
    {
     "data": {
      "text/plain": [
       "['2', '3', '5', '7', '11', '13', '17', '19', '23', '29']"
      ]
     },
     "execution_count": 8,
     "metadata": {},
     "output_type": "execute_result"
    }
   ],
   "source": [
    "primes_list[:10]"
   ]
  },
  {
   "cell_type": "code",
   "execution_count": 9,
   "id": "aa1e3fa9",
   "metadata": {},
   "outputs": [],
   "source": [
    "description = []\n",
    "genres = []\n",
    "with open(r'S:\\MS AI NEU\\CS 6120 - NLP\\NLP_Project\\Genre Classification Dataset\\train_data.txt', 'r', encoding='utf-8') as file2:\n",
    "    \n",
    "    for line in file2.readlines():\n",
    "        _id,title,genre,desc = line.split(' ::: ')\n",
    "        description.append(f\"{desc.lower().strip()}\")\n",
    "        genres.append(f\"{genre.lower().strip()}\")"
   ]
  },
  {
   "cell_type": "code",
   "execution_count": 10,
   "id": "22793498",
   "metadata": {},
   "outputs": [
    {
     "data": {
      "text/plain": [
       "'listening in to a conversation between his doctor and parents, 10-year-old oscar learns what nobody has the courage to tell him. he only has a few weeks to live. furious, he refuses to speak to anyone except straight-talking rose, the lady in pink he meets on the hospital stairs. as christmas approaches, rose uses her fantastical experiences as a professional wrestler, her imagination, wit and charm to allow oscar to live life and love to the full, in the company of his friends pop corn, einstein, bacon and childhood sweetheart peggy blue.'"
      ]
     },
     "execution_count": 10,
     "metadata": {},
     "output_type": "execute_result"
    }
   ],
   "source": [
    "description[0]"
   ]
  },
  {
   "cell_type": "code",
   "execution_count": 11,
   "id": "1e95580c",
   "metadata": {},
   "outputs": [
    {
     "data": {
      "text/plain": [
       "'drama'"
      ]
     },
     "execution_count": 11,
     "metadata": {},
     "output_type": "execute_result"
    }
   ],
   "source": [
    "genres[0]"
   ]
  },
  {
   "cell_type": "code",
   "execution_count": 12,
   "id": "a1e63427",
   "metadata": {},
   "outputs": [],
   "source": [
    "import pandas as pd\n",
    "\n",
    "df = pd.DataFrame(list(zip(description, genres)), columns =['Description', 'Genre'])"
   ]
  },
  {
   "cell_type": "code",
   "execution_count": 13,
   "id": "658f839f",
   "metadata": {},
   "outputs": [
    {
     "data": {
      "text/html": [
       "<div>\n",
       "<style scoped>\n",
       "    .dataframe tbody tr th:only-of-type {\n",
       "        vertical-align: middle;\n",
       "    }\n",
       "\n",
       "    .dataframe tbody tr th {\n",
       "        vertical-align: top;\n",
       "    }\n",
       "\n",
       "    .dataframe thead th {\n",
       "        text-align: right;\n",
       "    }\n",
       "</style>\n",
       "<table border=\"1\" class=\"dataframe\">\n",
       "  <thead>\n",
       "    <tr style=\"text-align: right;\">\n",
       "      <th></th>\n",
       "      <th>Description</th>\n",
       "      <th>Genre</th>\n",
       "    </tr>\n",
       "  </thead>\n",
       "  <tbody>\n",
       "    <tr>\n",
       "      <th>0</th>\n",
       "      <td>listen convers doctor parent year old oscar le...</td>\n",
       "      <td>drama</td>\n",
       "    </tr>\n",
       "    <tr>\n",
       "      <th>1</th>\n",
       "      <td>brother sister past incestu relationship curre...</td>\n",
       "      <td>thriller</td>\n",
       "    </tr>\n",
       "    <tr>\n",
       "      <th>2</th>\n",
       "      <td>bu empti student field trip museum natur histo...</td>\n",
       "      <td>adult</td>\n",
       "    </tr>\n",
       "    <tr>\n",
       "      <th>3</th>\n",
       "      <td>help unemploy father make end meet edith twin ...</td>\n",
       "      <td>drama</td>\n",
       "    </tr>\n",
       "    <tr>\n",
       "      <th>4</th>\n",
       "      <td>film titl refer un recov bodi ground zero also...</td>\n",
       "      <td>drama</td>\n",
       "    </tr>\n",
       "    <tr>\n",
       "      <th>...</th>\n",
       "      <td>...</td>\n",
       "      <td>...</td>\n",
       "    </tr>\n",
       "    <tr>\n",
       "      <th>54209</th>\n",
       "      <td>short live nbc live sitcom center bonino world...</td>\n",
       "      <td>comedy</td>\n",
       "    </tr>\n",
       "    <tr>\n",
       "      <th>54210</th>\n",
       "      <td>next gener exploit sister kapa bay soror hous ...</td>\n",
       "      <td>horror</td>\n",
       "    </tr>\n",
       "    <tr>\n",
       "      <th>54211</th>\n",
       "      <td>ze bestaan echt stand comedi grow face fear fr...</td>\n",
       "      <td>documentary</td>\n",
       "    </tr>\n",
       "    <tr>\n",
       "      <th>54212</th>\n",
       "      <td>walter vivian live countri difficult time keep...</td>\n",
       "      <td>comedy</td>\n",
       "    </tr>\n",
       "    <tr>\n",
       "      <th>54213</th>\n",
       "      <td>labor day weekend intens hurrican ever make la...</td>\n",
       "      <td>history</td>\n",
       "    </tr>\n",
       "  </tbody>\n",
       "</table>\n",
       "<p>54214 rows × 2 columns</p>\n",
       "</div>"
      ],
      "text/plain": [
       "                                             Description        Genre\n",
       "0      listen convers doctor parent year old oscar le...        drama\n",
       "1      brother sister past incestu relationship curre...     thriller\n",
       "2      bu empti student field trip museum natur histo...        adult\n",
       "3      help unemploy father make end meet edith twin ...        drama\n",
       "4      film titl refer un recov bodi ground zero also...        drama\n",
       "...                                                  ...          ...\n",
       "54209  short live nbc live sitcom center bonino world...       comedy\n",
       "54210  next gener exploit sister kapa bay soror hous ...       horror\n",
       "54211  ze bestaan echt stand comedi grow face fear fr...  documentary\n",
       "54212  walter vivian live countri difficult time keep...       comedy\n",
       "54213  labor day weekend intens hurrican ever make la...      history\n",
       "\n",
       "[54214 rows x 2 columns]"
      ]
     },
     "execution_count": 13,
     "metadata": {},
     "output_type": "execute_result"
    }
   ],
   "source": [
    "df['Description'] = df['Description'].apply(clean_review)\n",
    "df"
   ]
  },
  {
   "cell_type": "code",
   "execution_count": 14,
   "id": "458ab4cc",
   "metadata": {},
   "outputs": [],
   "source": [
    "df.to_csv('Train_Data.csv', index=False)"
   ]
  },
  {
   "cell_type": "code",
   "execution_count": 15,
   "id": "f7c89545",
   "metadata": {},
   "outputs": [],
   "source": [
    "vocab = {x for y in df['Description'] for x in y.strip().split()}"
   ]
  },
  {
   "cell_type": "code",
   "execution_count": 19,
   "id": "19c1e0a7",
   "metadata": {},
   "outputs": [
    {
     "data": {
      "text/plain": [
       "89311"
      ]
     },
     "execution_count": 19,
     "metadata": {},
     "output_type": "execute_result"
    }
   ],
   "source": [
    "len(vocab)"
   ]
  },
  {
   "cell_type": "code",
   "execution_count": 23,
   "id": "353a833e",
   "metadata": {},
   "outputs": [
    {
     "data": {
      "text/plain": [
       "1614"
      ]
     },
     "execution_count": 23,
     "metadata": {},
     "output_type": "execute_result"
    }
   ],
   "source": [
    "max([len(x.split()) for x in df['Description']])"
   ]
  },
  {
   "cell_type": "code",
   "execution_count": 26,
   "id": "c8f42f79",
   "metadata": {},
   "outputs": [
    {
     "data": {
      "text/plain": [
       "['15485837', '15485843', '15485849', '15485857']"
      ]
     },
     "execution_count": 26,
     "metadata": {},
     "output_type": "execute_result"
    }
   ],
   "source": [
    "primes_list[-5:-1]"
   ]
  },
  {
   "cell_type": "code",
   "execution_count": 37,
   "id": "c3a3dd37",
   "metadata": {},
   "outputs": [
    {
     "data": {
      "text/plain": [
       "[<matplotlib.lines.Line2D at 0x23028923668>]"
      ]
     },
     "execution_count": 37,
     "metadata": {},
     "output_type": "execute_result"
    },
    {
     "data": {
      "image/png": "[encoded data removed]",
      "text/plain": [
       "<Figure size 432x288 with 1 Axes>"
      ]
     },
     "metadata": {
      "needs_background": "light"
     },
     "output_type": "display_data"
    }
   ],
   "source": [
    "# import matplotlib\n",
    "# import matplotlib.pyplot as plt\n",
    "\n",
    "# c = 50000\n",
    "# k = c+20000\n",
    "\n",
    "# plt.plot(range(1, len(primes_list[c:k])+1), primes_list[c:k])"
   ]
  },
  {
   "cell_type": "code",
   "execution_count": 38,
   "id": "46fce7f8",
   "metadata": {},
   "outputs": [],
   "source": [
    "description = []\n",
    "genres = []\n",
    "with open(r'S:\\MS AI NEU\\CS 6120 - NLP\\NLP_Project\\Genre Classification Dataset\\test_data_solution.txt', 'r', encoding='utf-8') as file2:\n",
    "    \n",
    "    for line in file2.readlines():\n",
    "        _id,title,genre,desc = line.split(' ::: ')\n",
    "        description.append(f\"{desc.lower().strip()}\")\n",
    "        genres.append(f\"{genre.lower().strip()}\")"
   ]
  },
  {
   "cell_type": "code",
   "execution_count": 39,
   "id": "f7ebce9e",
   "metadata": {},
   "outputs": [],
   "source": [
    "import pandas as pd\n",
    "\n",
    "df = pd.DataFrame(list(zip(description, genres)), columns =['Description', 'Genre'])"
   ]
  },
  {
   "cell_type": "code",
   "execution_count": 40,
   "id": "ac23a2b3",
   "metadata": {},
   "outputs": [
    {
     "data": {
      "text/html": [
       "<div>\n",
       "<style scoped>\n",
       "    .dataframe tbody tr th:only-of-type {\n",
       "        vertical-align: middle;\n",
       "    }\n",
       "\n",
       "    .dataframe tbody tr th {\n",
       "        vertical-align: top;\n",
       "    }\n",
       "\n",
       "    .dataframe thead th {\n",
       "        text-align: right;\n",
       "    }\n",
       "</style>\n",
       "<table border=\"1\" class=\"dataframe\">\n",
       "  <thead>\n",
       "    <tr style=\"text-align: right;\">\n",
       "      <th></th>\n",
       "      <th>Description</th>\n",
       "      <th>Genre</th>\n",
       "    </tr>\n",
       "  </thead>\n",
       "  <tbody>\n",
       "    <tr>\n",
       "      <th>0</th>\n",
       "      <td>l r brane love life car apart job especi girlf...</td>\n",
       "      <td>thriller</td>\n",
       "    </tr>\n",
       "    <tr>\n",
       "      <th>1</th>\n",
       "      <td>spain march quico naughti child three belong w...</td>\n",
       "      <td>comedy</td>\n",
       "    </tr>\n",
       "    <tr>\n",
       "      <th>2</th>\n",
       "      <td>one year life albin famili shepherd north tran...</td>\n",
       "      <td>documentary</td>\n",
       "    </tr>\n",
       "    <tr>\n",
       "      <th>3</th>\n",
       "      <td>father die spoken brother year seriou cancer d...</td>\n",
       "      <td>drama</td>\n",
       "    </tr>\n",
       "    <tr>\n",
       "      <th>4</th>\n",
       "      <td>known intern martial art superstar bruce lee a...</td>\n",
       "      <td>drama</td>\n",
       "    </tr>\n",
       "    <tr>\n",
       "      <th>...</th>\n",
       "      <td>...</td>\n",
       "      <td>...</td>\n",
       "    </tr>\n",
       "    <tr>\n",
       "      <th>54195</th>\n",
       "      <td>cover multipl genr tale light dark antholog we...</td>\n",
       "      <td>horror</td>\n",
       "    </tr>\n",
       "    <tr>\n",
       "      <th>54196</th>\n",
       "      <td>alic cora munro attempt find father british of...</td>\n",
       "      <td>western</td>\n",
       "    </tr>\n",
       "    <tr>\n",
       "      <th>54197</th>\n",
       "      <td>movi year make oliv twist art dodger fagin lov...</td>\n",
       "      <td>adult</td>\n",
       "    </tr>\n",
       "    <tr>\n",
       "      <th>54198</th>\n",
       "      <td>popular mysteri rock j mike mallard askew broa...</td>\n",
       "      <td>drama</td>\n",
       "    </tr>\n",
       "    <tr>\n",
       "      <th>54199</th>\n",
       "      <td>curitiba citi movement rhythm differ pulsat gr...</td>\n",
       "      <td>drama</td>\n",
       "    </tr>\n",
       "  </tbody>\n",
       "</table>\n",
       "<p>54200 rows × 2 columns</p>\n",
       "</div>"
      ],
      "text/plain": [
       "                                             Description        Genre\n",
       "0      l r brane love life car apart job especi girlf...     thriller\n",
       "1      spain march quico naughti child three belong w...       comedy\n",
       "2      one year life albin famili shepherd north tran...  documentary\n",
       "3      father die spoken brother year seriou cancer d...        drama\n",
       "4      known intern martial art superstar bruce lee a...        drama\n",
       "...                                                  ...          ...\n",
       "54195  cover multipl genr tale light dark antholog we...       horror\n",
       "54196  alic cora munro attempt find father british of...      western\n",
       "54197  movi year make oliv twist art dodger fagin lov...        adult\n",
       "54198  popular mysteri rock j mike mallard askew broa...        drama\n",
       "54199  curitiba citi movement rhythm differ pulsat gr...        drama\n",
       "\n",
       "[54200 rows x 2 columns]"
      ]
     },
     "execution_count": 40,
     "metadata": {},
     "output_type": "execute_result"
    }
   ],
   "source": [
    "df['Description'] = df['Description'].apply(clean_review)\n",
    "df"
   ]
  },
  {
   "cell_type": "code",
   "execution_count": 41,
   "id": "282546d6",
   "metadata": {},
   "outputs": [],
   "source": [
    "df.to_csv('Test_Data.csv', index=False)"
   ]
  },
  {
   "cell_type": "code",
   "execution_count": null,
   "id": "89f0ea24",
   "metadata": {},
   "outputs": [],
   "source": []
  },
  {
   "cell_type": "code",
   "execution_count": 62,
   "id": "5056ffe1",
   "metadata": {},
   "outputs": [],
   "source": [
    "vector_length = 128"
   ]
  },
  {
   "cell_type": "code",
   "execution_count": 63,
   "id": "c74837a6",
   "metadata": {},
   "outputs": [],
   "source": [
    "word_value_pool = primes_list[-500000:]"
   ]
  },
  {
   "cell_type": "code",
   "execution_count": 64,
   "id": "9a4c9155",
   "metadata": {},
   "outputs": [],
   "source": [
    "from collections import defaultdict\n",
    "\n",
    "def zero():\n",
    "    return 0\n",
    "\n",
    "word_val_dict = defaultdict(zero)\n",
    "\n",
    "for word in vocab:\n",
    "    if word not in word_val_dict:\n",
    "        word_val_dict[word] = word_value_pool.pop()\n",
    "    else:\n",
    "        pass\n",
    "\n",
    "sentence_vectors = []\n",
    "\n",
    "for sentence in df['Description']:\n",
    "    vec = []\n",
    "    for idx, a_word in enumerate(sentence.strip().split()):\n",
    "        if idx == vector_length:\n",
    "            break\n",
    "        \n",
    "        vec.append(word_val_dict[a_word])\n",
    "    \n",
    "    vec = vec + [0]*(vector_length - len(vec))\n",
    "    \n",
    "    sentence_vectors.append(vec)\n",
    "        "
   ]
  },
  {
   "cell_type": "code",
   "execution_count": 65,
   "id": "aeab8eaa",
   "metadata": {},
   "outputs": [
    {
     "data": {
      "text/plain": [
       "54200"
      ]
     },
     "execution_count": 65,
     "metadata": {},
     "output_type": "execute_result"
    }
   ],
   "source": [
    "len(sentence_vectors)"
   ]
  },
  {
   "cell_type": "code",
   "execution_count": 66,
   "id": "d585196a",
   "metadata": {},
   "outputs": [
    {
     "data": {
      "text/plain": [
       "['14434577',\n",
       " '14128237',\n",
       " 0,\n",
       " '14761007',\n",
       " '15039329',\n",
       " '14386763',\n",
       " '14861299',\n",
       " '14468473',\n",
       " '14577821',\n",
       " '14407501',\n",
       " '15087739',\n",
       " '15165691',\n",
       " '14169439',\n",
       " '14126261',\n",
       " '15087739',\n",
       " '15348071',\n",
       " '15424397',\n",
       " '14434577',\n",
       " '14128237',\n",
       " '15348071',\n",
       " '14350319',\n",
       " '14806087',\n",
       " '15122773',\n",
       " '14207797',\n",
       " '15098443',\n",
       " '14328143',\n",
       " '14382041',\n",
       " '14756011',\n",
       " '14259331',\n",
       " '15087739',\n",
       " '14434711',\n",
       " '14575849',\n",
       " '14066809',\n",
       " '15379267',\n",
       " '14583097',\n",
       " '14434577',\n",
       " '14128237',\n",
       " '15039329',\n",
       " '14975801',\n",
       " '14924969',\n",
       " '15379267',\n",
       " '15165691',\n",
       " '14175353',\n",
       " '15459809',\n",
       " '15368081',\n",
       " '14462993',\n",
       " '14801461',\n",
       " '14487727',\n",
       " '14070839',\n",
       " '14966837',\n",
       " '14928569',\n",
       " '15087739',\n",
       " 0,\n",
       " 0,\n",
       " 0,\n",
       " 0,\n",
       " 0,\n",
       " 0,\n",
       " 0,\n",
       " 0,\n",
       " 0,\n",
       " 0,\n",
       " 0,\n",
       " 0,\n",
       " 0,\n",
       " 0,\n",
       " 0,\n",
       " 0,\n",
       " 0,\n",
       " 0,\n",
       " 0,\n",
       " 0,\n",
       " 0,\n",
       " 0,\n",
       " 0,\n",
       " 0,\n",
       " 0,\n",
       " 0,\n",
       " 0,\n",
       " 0,\n",
       " 0,\n",
       " 0,\n",
       " 0,\n",
       " 0,\n",
       " 0,\n",
       " 0,\n",
       " 0,\n",
       " 0,\n",
       " 0,\n",
       " 0,\n",
       " 0,\n",
       " 0,\n",
       " 0,\n",
       " 0,\n",
       " 0,\n",
       " 0,\n",
       " 0,\n",
       " 0,\n",
       " 0,\n",
       " 0,\n",
       " 0,\n",
       " 0,\n",
       " 0,\n",
       " 0,\n",
       " 0,\n",
       " 0,\n",
       " 0,\n",
       " 0,\n",
       " 0,\n",
       " 0,\n",
       " 0,\n",
       " 0,\n",
       " 0,\n",
       " 0,\n",
       " 0,\n",
       " 0,\n",
       " 0,\n",
       " 0,\n",
       " 0,\n",
       " 0,\n",
       " 0,\n",
       " 0,\n",
       " 0,\n",
       " 0,\n",
       " 0,\n",
       " 0,\n",
       " 0,\n",
       " 0]"
      ]
     },
     "execution_count": 66,
     "metadata": {},
     "output_type": "execute_result"
    }
   ],
   "source": [
    "sentence_vectors[0]"
   ]
  },
  {
   "cell_type": "code",
   "execution_count": 84,
   "id": "5c043e96",
   "metadata": {},
   "outputs": [],
   "source": [
    "#Numpy deals with large arrays and linear algebra\n",
    "import numpy as np\n",
    "# Library for data manipulation and analysis\n",
    "import pandas as pd \n",
    " \n",
    "# Metrics for Evaluation of model Accuracy and F1-score\n",
    "from sklearn.metrics  import f1_score,accuracy_score\n",
    " \n",
    "#Importing the Decision Tree from scikit-learn library\n",
    "from sklearn.tree import DecisionTreeClassifier\n",
    "\n",
    "from sklearn.linear_model import LogisticRegression\n",
    "from sklearn.svm import SVC\n",
    "\n",
    "from sklearn.naive_bayes import GaussianNB\n",
    "from sklearn.naive_bayes import MultinomialNB\n",
    "\n",
    "from sklearn.linear_model import SGDClassifier\n",
    "\n",
    "from sklearn.neighbors import KNeighborsClassifier\n",
    "\n",
    "from sklearn.ensemble import RandomForestClassifier\n",
    "\n",
    "from sklearn.ensemble import GradientBoostingClassifier\n",
    " \n",
    "# For splitting of data into train and test set\n",
    "from sklearn.model_selection import train_test_split"
   ]
  },
  {
   "cell_type": "code",
   "execution_count": 97,
   "id": "93c1edd1",
   "metadata": {},
   "outputs": [],
   "source": [
    "y = df.Genre\n",
    "# df.drop(['Genre'], axis=1, inplace=True)\n",
    "X = sentence_vectors\n",
    "\n",
    "X_train, X_test, y_train, y_test = train_test_split(X, y, test_size=0.25, random_state=2)"
   ]
  },
  {
   "cell_type": "code",
   "execution_count": 102,
   "id": "663533fb",
   "metadata": {},
   "outputs": [
    {
     "data": {
      "text/plain": [
       "GradientBoostingClassifier()"
      ]
     },
     "execution_count": 102,
     "metadata": {},
     "output_type": "execute_result"
    }
   ],
   "source": [
    "model = GradientBoostingClassifier() # DecisionTreeClassifier()\n",
    "model.fit(X_train,y_train)"
   ]
  },
  {
   "cell_type": "code",
   "execution_count": 103,
   "id": "48c12b4c",
   "metadata": {},
   "outputs": [
    {
     "name": "stdout",
     "output_type": "stream",
     "text": [
      "0.27586715867158673\n",
      "0.27586715867158673\n"
     ]
    }
   ],
   "source": [
    "# We use the predict() on the model to predict the output\n",
    "pred = model.predict(X_test)\n",
    " \n",
    "# for classification we use accuracy and F1 score\n",
    "print(accuracy_score(y_test, pred))\n",
    "print(f1_score(y_test,pred, average='micro'))  # [None, 'micro', 'macro', 'weighted'].\n",
    " \n",
    "# for regression we use R2 score and MAE(mean absolute error)\n",
    "# all other steps will be same as classification as shown above\n",
    "from sklearn.metrics import mean_absolute_error\n",
    "from sklearn.metrics import r2_score\n",
    "# print(mean_absolute_error(y_test,pred))\n",
    "# print(mean_absolute_error(y_test,pred))"
   ]
  },
  {
   "cell_type": "code",
   "execution_count": null,
   "id": "796551e6",
   "metadata": {},
   "outputs": [],
   "source": []
  }
 ],
 "metadata": {
  "kernelspec": {
   "display_name": "Python 3",
   "language": "python",
   "name": "python3"
  },
  "language_info": {
   "codemirror_mode": {
    "name": "ipython",
    "version": 3
   },
   "file_extension": ".py",
   "mimetype": "text/x-python",
   "name": "python",
   "nbconvert_exporter": "python",
   "pygments_lexer": "ipython3",
   "version": "3.6.8"
  }
 },
 "nbformat": 4,
 "nbformat_minor": 5
}

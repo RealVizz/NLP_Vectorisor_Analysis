{
 "cells": [
  {
   "cell_type": "code",
   "execution_count": 1,
   "id": "afcecf6e",
   "metadata": {},
   "outputs": [],
   "source": [
    "import numpy as np\n",
    "import re\n",
    "from nltk.corpus import stopwords\n",
    "from nltk.tokenize import word_tokenize\n",
    "from nltk.stem.snowball import PorterStemmer, SnowballStemmer\n",
    "from nltk.stem import WordNetLemmatizer"
   ]
  },
  {
   "cell_type": "code",
   "execution_count": 2,
   "id": "e6c64e7b",
   "metadata": {},
   "outputs": [],
   "source": [
    "def clean_review(review):\n",
    "    '''\n",
    "    Input:\n",
    "        review: a string containing a review.\n",
    "    Output:\n",
    "        review_cleaned: a processed review. \n",
    "    '''\n",
    "    review = review[0] if type(review) != str else review\n",
    "    if type(review) == np.ndarray:\n",
    "        print(review, review[0])\n",
    "        review = review[0]\n",
    "        \n",
    "    lower_string = review.lower()\n",
    "    no_url_str = re.sub(r'https?:\\/\\/\\.*','', lower_string)\n",
    "    clean_str = re.sub(r'[^a-zA-Z]', ' ', no_url_str)  # removing special characters, numbers, punctuations\n",
    "#     print(clean_str)\n",
    "    \n",
    "    stop_words_set = set(stopwords.words('english'))\n",
    "    stemmer_object = PorterStemmer()  # SnowballStemmer(language='english')\n",
    "#     lemma_obj = WordNetLemmatizer()\n",
    "  \n",
    "    review_str_tokens = word_tokenize(clean_str)\n",
    "    clean_word_list = [stemmer_object.stem(a_token) for a_token in review_str_tokens if not a_token.lower() in stop_words_set]\n",
    "    \n",
    "    clean_review = ' '.join(clean_word_list)\n",
    "    return clean_review\n",
    "\n",
    "\n"
   ]
  },
  {
   "cell_type": "code",
   "execution_count": 3,
   "id": "d8a269c3",
   "metadata": {},
   "outputs": [
    {
     "data": {
      "text/plain": [
       "'nlp stanford edu ir book html htmledit stem lemmat html buckybarn'"
      ]
     },
     "execution_count": 3,
     "metadata": {},
     "output_type": "execute_result"
    }
   ],
   "source": [
    "# Verifying\n",
    "clean_review('https://nlp.stanford.edu/IR-book/html/htmledition/stemming-and-lemmatization-1.html BuckyBarnes@123 \\!@#$%^&*\\(\\)_+=-[]{}\\|\\';:\\\"/?.,><`~')"
   ]
  },
  {
   "cell_type": "code",
   "execution_count": 4,
   "id": "7a9c5720",
   "metadata": {},
   "outputs": [],
   "source": [
    "import os"
   ]
  },
  {
   "cell_type": "code",
   "execution_count": 5,
   "id": "e6452696",
   "metadata": {},
   "outputs": [],
   "source": [
    "cwd = os.getcwd()\n",
    "\n",
    "description = []\n",
    "genres = []\n",
    "\n",
    "with open(rf'{cwd}\\Raw_Data\\Genre Classification Dataset\\train_data.txt', 'r', encoding='utf-8') as train_data_file2:\n",
    "    \n",
    "    for line in train_data_file2.readlines():\n",
    "        _id,title,genre,desc = line.split(' ::: ')\n",
    "        description.append(f\"{desc.lower().strip()}\")\n",
    "        genres.append(f\"{genre.lower().strip()}\")\n",
    "        "
   ]
  },
  {
   "cell_type": "code",
   "execution_count": 6,
   "id": "cf7b1c69",
   "metadata": {},
   "outputs": [
    {
     "data": {
      "text/plain": [
       "'listening in to a conversation between his doctor and parents, 10-year-old oscar learns what nobody has the courage to tell him. he only has a few weeks to live. furious, he refuses to speak to anyone except straight-talking rose, the lady in pink he meets on the hospital stairs. as christmas approaches, rose uses her fantastical experiences as a professional wrestler, her imagination, wit and charm to allow oscar to live life and love to the full, in the company of his friends pop corn, einstein, bacon and childhood sweetheart peggy blue.'"
      ]
     },
     "execution_count": 6,
     "metadata": {},
     "output_type": "execute_result"
    }
   ],
   "source": [
    "description[0]"
   ]
  },
  {
   "cell_type": "code",
   "execution_count": 7,
   "id": "8cca6f86",
   "metadata": {},
   "outputs": [
    {
     "data": {
      "text/plain": [
       "'drama'"
      ]
     },
     "execution_count": 7,
     "metadata": {},
     "output_type": "execute_result"
    }
   ],
   "source": [
    "genres[0]"
   ]
  },
  {
   "cell_type": "code",
   "execution_count": 8,
   "id": "5ee9624f",
   "metadata": {},
   "outputs": [],
   "source": [
    "import pandas as pd"
   ]
  },
  {
   "cell_type": "code",
   "execution_count": 9,
   "id": "dbd43ec5",
   "metadata": {},
   "outputs": [],
   "source": [
    "df = pd.DataFrame(list(zip(description, genres)), columns =['Description', 'Genre'])"
   ]
  },
  {
   "cell_type": "code",
   "execution_count": 10,
   "id": "7332b586",
   "metadata": {},
   "outputs": [
    {
     "data": {
      "text/html": [
       "<div>\n",
       "<style scoped>\n",
       "    .dataframe tbody tr th:only-of-type {\n",
       "        vertical-align: middle;\n",
       "    }\n",
       "\n",
       "    .dataframe tbody tr th {\n",
       "        vertical-align: top;\n",
       "    }\n",
       "\n",
       "    .dataframe thead th {\n",
       "        text-align: right;\n",
       "    }\n",
       "</style>\n",
       "<table border=\"1\" class=\"dataframe\">\n",
       "  <thead>\n",
       "    <tr style=\"text-align: right;\">\n",
       "      <th></th>\n",
       "      <th>Description</th>\n",
       "      <th>Genre</th>\n",
       "    </tr>\n",
       "  </thead>\n",
       "  <tbody>\n",
       "    <tr>\n",
       "      <th>0</th>\n",
       "      <td>listen convers doctor parent year old oscar le...</td>\n",
       "      <td>drama</td>\n",
       "    </tr>\n",
       "    <tr>\n",
       "      <th>1</th>\n",
       "      <td>brother sister past incestu relationship curre...</td>\n",
       "      <td>thriller</td>\n",
       "    </tr>\n",
       "    <tr>\n",
       "      <th>2</th>\n",
       "      <td>bu empti student field trip museum natur histo...</td>\n",
       "      <td>adult</td>\n",
       "    </tr>\n",
       "    <tr>\n",
       "      <th>3</th>\n",
       "      <td>help unemploy father make end meet edith twin ...</td>\n",
       "      <td>drama</td>\n",
       "    </tr>\n",
       "    <tr>\n",
       "      <th>4</th>\n",
       "      <td>film titl refer un recov bodi ground zero also...</td>\n",
       "      <td>drama</td>\n",
       "    </tr>\n",
       "    <tr>\n",
       "      <th>...</th>\n",
       "      <td>...</td>\n",
       "      <td>...</td>\n",
       "    </tr>\n",
       "    <tr>\n",
       "      <th>54209</th>\n",
       "      <td>short live nbc live sitcom center bonino world...</td>\n",
       "      <td>comedy</td>\n",
       "    </tr>\n",
       "    <tr>\n",
       "      <th>54210</th>\n",
       "      <td>next gener exploit sister kapa bay soror hous ...</td>\n",
       "      <td>horror</td>\n",
       "    </tr>\n",
       "    <tr>\n",
       "      <th>54211</th>\n",
       "      <td>ze bestaan echt stand comedi grow face fear fr...</td>\n",
       "      <td>documentary</td>\n",
       "    </tr>\n",
       "    <tr>\n",
       "      <th>54212</th>\n",
       "      <td>walter vivian live countri difficult time keep...</td>\n",
       "      <td>comedy</td>\n",
       "    </tr>\n",
       "    <tr>\n",
       "      <th>54213</th>\n",
       "      <td>labor day weekend intens hurrican ever make la...</td>\n",
       "      <td>history</td>\n",
       "    </tr>\n",
       "  </tbody>\n",
       "</table>\n",
       "<p>54214 rows × 2 columns</p>\n",
       "</div>"
      ],
      "text/plain": [
       "                                             Description        Genre\n",
       "0      listen convers doctor parent year old oscar le...        drama\n",
       "1      brother sister past incestu relationship curre...     thriller\n",
       "2      bu empti student field trip museum natur histo...        adult\n",
       "3      help unemploy father make end meet edith twin ...        drama\n",
       "4      film titl refer un recov bodi ground zero also...        drama\n",
       "...                                                  ...          ...\n",
       "54209  short live nbc live sitcom center bonino world...       comedy\n",
       "54210  next gener exploit sister kapa bay soror hous ...       horror\n",
       "54211  ze bestaan echt stand comedi grow face fear fr...  documentary\n",
       "54212  walter vivian live countri difficult time keep...       comedy\n",
       "54213  labor day weekend intens hurrican ever make la...      history\n",
       "\n",
       "[54214 rows x 2 columns]"
      ]
     },
     "execution_count": 10,
     "metadata": {},
     "output_type": "execute_result"
    }
   ],
   "source": [
    "df['Description'] = df['Description'].apply(clean_review)\n",
    "df"
   ]
  },
  {
   "cell_type": "code",
   "execution_count": 11,
   "id": "9ea2e122",
   "metadata": {},
   "outputs": [],
   "source": [
    "df.to_csv('Train_Data.csv', index=False)"
   ]
  },
  {
   "cell_type": "code",
   "execution_count": 12,
   "id": "cb7ad656",
   "metadata": {},
   "outputs": [],
   "source": [
    "vocab = {x for y in df['Description'] for x in y.strip().split()}"
   ]
  },
  {
   "cell_type": "code",
   "execution_count": 13,
   "id": "78cc954e",
   "metadata": {},
   "outputs": [
    {
     "data": {
      "text/plain": [
       "89311"
      ]
     },
     "execution_count": 13,
     "metadata": {},
     "output_type": "execute_result"
    }
   ],
   "source": [
    "len(vocab)"
   ]
  },
  {
   "cell_type": "code",
   "execution_count": 14,
   "id": "49e4427b",
   "metadata": {},
   "outputs": [
    {
     "data": {
      "text/plain": [
       "1614"
      ]
     },
     "execution_count": 14,
     "metadata": {},
     "output_type": "execute_result"
    }
   ],
   "source": [
    "# maximum (word) length of a review.\n",
    "max([len(x.split()) for x in df['Description']])"
   ]
  },
  {
   "cell_type": "code",
   "execution_count": null,
   "id": "f72587dc",
   "metadata": {},
   "outputs": [],
   "source": []
  },
  {
   "cell_type": "code",
   "execution_count": null,
   "id": "90746224",
   "metadata": {},
   "outputs": [],
   "source": []
  },
  {
   "cell_type": "code",
   "execution_count": 15,
   "id": "7b75bd21",
   "metadata": {},
   "outputs": [],
   "source": [
    "cwd = os.getcwd()\n",
    "\n",
    "description = []\n",
    "genres = []\n",
    "\n",
    "with open(rf'{cwd}\\Raw_Data\\Genre Classification Dataset\\test_data_solution.txt', 'r', encoding='utf-8') as test_data_solution_file:\n",
    "    \n",
    "    for line in test_data_solution_file.readlines():\n",
    "        _id,title,genre,desc = line.split(' ::: ')\n",
    "        description.append(f\"{desc.lower().strip()}\")\n",
    "        genres.append(f\"{genre.lower().strip()}\")\n"
   ]
  },
  {
   "cell_type": "code",
   "execution_count": 16,
   "id": "f5859070",
   "metadata": {},
   "outputs": [],
   "source": [
    "df = pd.DataFrame(list(zip(description, genres)), columns =['Description', 'Genre'])"
   ]
  },
  {
   "cell_type": "code",
   "execution_count": 17,
   "id": "c1605aad",
   "metadata": {},
   "outputs": [
    {
     "data": {
      "text/html": [
       "<div>\n",
       "<style scoped>\n",
       "    .dataframe tbody tr th:only-of-type {\n",
       "        vertical-align: middle;\n",
       "    }\n",
       "\n",
       "    .dataframe tbody tr th {\n",
       "        vertical-align: top;\n",
       "    }\n",
       "\n",
       "    .dataframe thead th {\n",
       "        text-align: right;\n",
       "    }\n",
       "</style>\n",
       "<table border=\"1\" class=\"dataframe\">\n",
       "  <thead>\n",
       "    <tr style=\"text-align: right;\">\n",
       "      <th></th>\n",
       "      <th>Description</th>\n",
       "      <th>Genre</th>\n",
       "    </tr>\n",
       "  </thead>\n",
       "  <tbody>\n",
       "    <tr>\n",
       "      <th>0</th>\n",
       "      <td>l r brane love life car apart job especi girlf...</td>\n",
       "      <td>thriller</td>\n",
       "    </tr>\n",
       "    <tr>\n",
       "      <th>1</th>\n",
       "      <td>spain march quico naughti child three belong w...</td>\n",
       "      <td>comedy</td>\n",
       "    </tr>\n",
       "    <tr>\n",
       "      <th>2</th>\n",
       "      <td>one year life albin famili shepherd north tran...</td>\n",
       "      <td>documentary</td>\n",
       "    </tr>\n",
       "    <tr>\n",
       "      <th>3</th>\n",
       "      <td>father die spoken brother year seriou cancer d...</td>\n",
       "      <td>drama</td>\n",
       "    </tr>\n",
       "    <tr>\n",
       "      <th>4</th>\n",
       "      <td>known intern martial art superstar bruce lee a...</td>\n",
       "      <td>drama</td>\n",
       "    </tr>\n",
       "    <tr>\n",
       "      <th>...</th>\n",
       "      <td>...</td>\n",
       "      <td>...</td>\n",
       "    </tr>\n",
       "    <tr>\n",
       "      <th>54195</th>\n",
       "      <td>cover multipl genr tale light dark antholog we...</td>\n",
       "      <td>horror</td>\n",
       "    </tr>\n",
       "    <tr>\n",
       "      <th>54196</th>\n",
       "      <td>alic cora munro attempt find father british of...</td>\n",
       "      <td>western</td>\n",
       "    </tr>\n",
       "    <tr>\n",
       "      <th>54197</th>\n",
       "      <td>movi year make oliv twist art dodger fagin lov...</td>\n",
       "      <td>adult</td>\n",
       "    </tr>\n",
       "    <tr>\n",
       "      <th>54198</th>\n",
       "      <td>popular mysteri rock j mike mallard askew broa...</td>\n",
       "      <td>drama</td>\n",
       "    </tr>\n",
       "    <tr>\n",
       "      <th>54199</th>\n",
       "      <td>curitiba citi movement rhythm differ pulsat gr...</td>\n",
       "      <td>drama</td>\n",
       "    </tr>\n",
       "  </tbody>\n",
       "</table>\n",
       "<p>54200 rows × 2 columns</p>\n",
       "</div>"
      ],
      "text/plain": [
       "                                             Description        Genre\n",
       "0      l r brane love life car apart job especi girlf...     thriller\n",
       "1      spain march quico naughti child three belong w...       comedy\n",
       "2      one year life albin famili shepherd north tran...  documentary\n",
       "3      father die spoken brother year seriou cancer d...        drama\n",
       "4      known intern martial art superstar bruce lee a...        drama\n",
       "...                                                  ...          ...\n",
       "54195  cover multipl genr tale light dark antholog we...       horror\n",
       "54196  alic cora munro attempt find father british of...      western\n",
       "54197  movi year make oliv twist art dodger fagin lov...        adult\n",
       "54198  popular mysteri rock j mike mallard askew broa...        drama\n",
       "54199  curitiba citi movement rhythm differ pulsat gr...        drama\n",
       "\n",
       "[54200 rows x 2 columns]"
      ]
     },
     "execution_count": 17,
     "metadata": {},
     "output_type": "execute_result"
    }
   ],
   "source": [
    "df['Description'] = df['Description'].apply(clean_review)\n",
    "df"
   ]
  },
  {
   "cell_type": "code",
   "execution_count": 18,
   "id": "2dca0057",
   "metadata": {},
   "outputs": [],
   "source": [
    "df.to_csv('Test_Data.csv', index=False)"
   ]
  },
  {
   "cell_type": "code",
   "execution_count": null,
   "id": "46e7d7e0",
   "metadata": {},
   "outputs": [],
   "source": []
  }
 ],
 "metadata": {
  "kernelspec": {
   "display_name": "Python 3",
   "language": "python",
   "name": "python3"
  },
  "language_info": {
   "codemirror_mode": {
    "name": "ipython",
    "version": 3
   },
   "file_extension": ".py",
   "mimetype": "text/x-python",
   "name": "python",
   "nbconvert_exporter": "python",
   "pygments_lexer": "ipython3",
   "version": "3.6.8"
  }
 },
 "nbformat": 4,
 "nbformat_minor": 5
}
